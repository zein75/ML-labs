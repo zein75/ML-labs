{
 "nbformat": 4,
 "nbformat_minor": 0,
 "metadata": {
  "colab": {
   "provenance": []
  },
  "kernelspec": {
   "name": "python3",
   "display_name": "Python 3 (ipykernel)",
   "language": "python"
  },
  "language_info": {
   "name": "python"
  }
 },
 "cells": [
  {
   "cell_type": "markdown",
   "source": [
    "#Задача 1\n",
    "Написать функцию на вход которой подается строка, состоящая из латинских букв.\n",
    "Функция должна вернуть количество гласных букв (a, e, i, o, u) в этой строке. Написать тесты для кода"
   ],
   "metadata": {
    "id": "M-DGa20PaHnu"
   }
  },
  {
   "cell_type": "code",
   "source": [
    "import unittest\n",
    "\n",
    "\n",
    "def func(s: str) -> int:\n",
    "    return sum(1 for i in s.lower() if i in 'aeiouy')\n",
    "\n",
    "\n",
    "class TestFunc(unittest.TestCase):\n",
    "    def test1(self):\n",
    "        self.assertEqual(func('bcjhfd'), 0)\n",
    "\n",
    "    def test2(self):\n",
    "        self.assertEqual(func('aaaiouO'), 7)\n",
    "\n",
    "    def test3(self):\n",
    "        self.assertEqual(func(''), 0)\n",
    "\n",
    "    def test4(self):\n",
    "        self.assertEqual(func('Som,   _ '), 1)\n",
    "\n",
    "    def test5(self):\n",
    "        self.assertEqual(func('HHHOIY'), 3)"
   ],
   "metadata": {
    "id": "XvX8X_JJ6PCb",
    "ExecuteTime": {
     "end_time": "2024-09-23T15:04:23.145483Z",
     "start_time": "2024-09-23T15:04:23.140920Z"
    }
   },
   "outputs": [],
   "execution_count": 8
  },
  {
   "cell_type": "markdown",
   "source": [
    "# Задача 2\n",
    "Написать функцию на вход, которой подается строка. Функция должна вернуть true, если\n",
    "каждый символ в строке встречается только 1 раз, иначе должна вернуть false. Написать тесты для кода"
   ],
   "metadata": {
    "id": "t2ClV_Y0bbr6"
   }
  },
  {
   "cell_type": "code",
   "source": [
    "import unittest\n",
    "\n",
    "\n",
    "def task2(s: str) -> bool:\n",
    "    return len(s) == len(set(s))\n",
    "\n",
    "\n",
    "class TestTask2(unittest.TestCase):\n",
    "    def test1(self):\n",
    "        self.assertEqual(task2('qwerty'), True)\n",
    "\n",
    "    def test2(self):\n",
    "        self.assertEqual(task2(''), True)\n",
    "\n",
    "    def test3(self):\n",
    "        self.assertEqual(task2('aaaaio'), False)\n",
    "\n",
    "    def test4(self):\n",
    "        self.assertEqual(task2('awe hjk'), True)\n",
    "\n",
    "    def test5(self):\n",
    "        self.assertEqual(task2('123'), True)\n"
   ],
   "metadata": {
    "id": "FppbECao6VIz",
    "ExecuteTime": {
     "end_time": "2024-09-23T15:10:04.438851Z",
     "start_time": "2024-09-23T15:10:04.435482Z"
    }
   },
   "outputs": [
    {
     "name": "stdout",
     "output_type": "stream",
     "text": [
      "True\n"
     ]
    }
   ],
   "execution_count": 13
  },
  {
   "cell_type": "markdown",
   "source": [
    "# Задача 3\n",
    "Написать функцию, которая принимает положительное число и возвращает количество\n",
    "бит равных 1 в этом числе. Написать тесты для кода"
   ],
   "metadata": {
    "id": "udRiIK1cdt6E"
   }
  },
  {
   "cell_type": "code",
   "source": [
    "import unittest\n",
    "\n",
    "\n",
    "def task3(n: int) -> int:\n",
    "    return bin(n).count('1')\n",
    "\n",
    "\n",
    "class TestTask3(unittest.TestCase):\n",
    "    def test1(self):\n",
    "        self.assertEqual(task3(7), 3)\n",
    "\n",
    "    def test2(self):\n",
    "        self.assertEqual(task3(0), 0)\n",
    "\n",
    "    def test3(self):\n",
    "        self.assertEqual(task3(255), 8)"
   ],
   "metadata": {
    "id": "6tkfDJRz6dp_",
    "ExecuteTime": {
     "end_time": "2024-09-23T15:04:17.114585Z",
     "start_time": "2024-09-23T15:04:17.111895Z"
    }
   },
   "outputs": [],
   "execution_count": 7
  },
  {
   "cell_type": "markdown",
   "source": [
    "# Задача 4\n",
    "Написать функцию, которая принимает положительное число. Функция должна вернуть то,\n",
    "сколько раз необходимо перемножать цифры числа или результат перемножения, чтобы\n",
    "получилось число состоящее из одной цифры.\n",
    "Например, для входного числа:\n",
    "· 39 функция должна вернуть 3, так как 3*9=27 => 2*7=14 => 1*4=4\n",
    "· 4 функция должна вернуть 0, так как число уже состоит из одной цифры\n",
    "· 999 функция должна вернуть 4, так как 9*9*9=729 => 7*2*9=126 => 1*2*6=12 =>\n",
    "1*2=2. Написать тесты для кода"
   ],
   "metadata": {
    "id": "26dDUz-Ae17N"
   }
  },
  {
   "cell_type": "code",
   "source": [
    "import unittest\n",
    "\n",
    "\n",
    "def task4(n: int) -> int:\n",
    "    if n < 10:\n",
    "        return 0\n",
    "    num = 1\n",
    "    while n > 0:\n",
    "        num *= n % 10\n",
    "        n //= 10\n",
    "    return 1 + task4(num)\n",
    "\n",
    "\n",
    "class TestTask4(unittest.TestCase):\n",
    "    def test1(self):\n",
    "        self.assertEqual(task4(4), 0)\n",
    "\n",
    "    def test2(self):\n",
    "        self.assertEqual(task4(0), 0)\n",
    "\n",
    "    def test3(self):\n",
    "        self.assertEqual(task4(999), 4)\n",
    "\n",
    "    def test4(self):\n",
    "        self.assertEqual(task4(39), 3)"
   ],
   "metadata": {
    "id": "BH1A_Mgi6i4G"
   },
   "execution_count": null,
   "outputs": []
  },
  {
   "cell_type": "markdown",
   "source": [
    "# Задача 5\n",
    "Написать функцию, которая принимает два целочисленных вектора одинаковой длины и\n",
    "возвращает среднеквадратическое отклонение двух векторов. Написать тесты для кода"
   ],
   "metadata": {
    "id": "0nS-kIa8g8vd"
   }
  },
  {
   "cell_type": "code",
   "source": [
    "import unittest, math\n",
    "\n",
    "\n",
    "def task5(v1, v2) -> float:\n",
    "    if len(v1) != len(v2):\n",
    "        print(\"Wrong input\")\n",
    "    sum = 0\n",
    "    for i in range(len(v1)):\n",
    "        diff = v1[i] - v2[i]\n",
    "        sum += diff ** 2\n",
    "\n",
    "    mean_squared_diff = sum / len(v1)\n",
    "\n",
    "    return math.sqrt(mean_squared_diff)\n",
    "\n",
    "\n",
    "class TestTask5(unittest.TestCase):\n",
    "    def test1(self):\n",
    "        self.assertEqual(task5([1, 2, 3], [1, 2, 3]), 0.0)\n",
    "\n",
    "    def test2(self):\n",
    "        self.assertEqual(task5([1, 2, 3], [4, 5, 6]), 3.0)\n",
    "\n",
    "    def test3(self):\n",
    "        self.assertEqual(task5([-1, -2, -3], [-4, -5, -6]), 3.0)"
   ],
   "metadata": {
    "id": "8iphx4LM6xbx",
    "ExecuteTime": {
     "end_time": "2024-09-23T15:43:37.533875Z",
     "start_time": "2024-09-23T15:43:37.528521Z"
    }
   },
   "outputs": [
    {
     "name": "stdout",
     "output_type": "stream",
     "text": [
      "0.0\n"
     ]
    }
   ],
   "execution_count": 15
  },
  {
   "cell_type": "markdown",
   "source": [
    "# Задача 6\n",
    "Написать функцию, принимающая целое положительное число. Функция должна вернуть\n",
    "строку вида “(n1**p1)(n2**p2)…(nk**pk)” представляющая разложение числа на простые\n",
    "множители (если pi == 1, то выводить только ni).\n",
    "Например, для числа 86240 функция должна вернуть “(2**5)(5)(7**2)(11)”. Написать тесты для кода"
   ],
   "metadata": {
    "id": "vpIPKL439zkw"
   }
  },
  {
   "cell_type": "code",
   "source": [
    "import unittest\n",
    "\n",
    "\n",
    "def prime_factors(n: int) -> str:\n",
    "    if n < 1:\n",
    "        print(\"Error\")\n",
    "\n",
    "    factors = {}\n",
    "\n",
    "    while n % 2 == 0:\n",
    "        if 2 in factors:\n",
    "            factors[2] += 1\n",
    "        else:\n",
    "            factors[2] = 1\n",
    "        n //= 2\n",
    "\n",
    "    for i in range(3, int(n ** 0.5) + 1, 2):\n",
    "        while n % i == 0:\n",
    "            if i in factors:\n",
    "                factors[i] += 1\n",
    "            else:\n",
    "                factors[i] = 1\n",
    "            n //= i\n",
    "\n",
    "    if n > 2:\n",
    "        factors[n] = 1\n",
    "\n",
    "    result = []\n",
    "    for factor, power in sorted(factors.items()):\n",
    "        if power > 1:\n",
    "            result.append(f\"({factor}**{power})\")\n",
    "        else:\n",
    "            result.append(f\"({factor})\")\n",
    "\n",
    "    return ''.join(result)\n",
    "\n",
    "\n",
    "class TestPrimeFactors(unittest.TestCase):\n",
    "\n",
    "    def test_single_prime(self):\n",
    "        self.assertEqual(prime_factors(11), \"(11)\")\n",
    "\n",
    "    def test_power_of_two(self):\n",
    "        self.assertEqual(prime_factors(32), \"(2**5)\")\n",
    "\n",
    "    def test_composite_number(self):\n",
    "        self.assertEqual(prime_factors(86240), \"(2**5)(5)(7**2)(11)\")\n",
    "\n",
    "    def test_small_number(self):\n",
    "        self.assertEqual(prime_factors(18), \"(2)(3**2)\")"
   ],
   "metadata": {
    "id": "pFebmcZk94Jw"
   },
   "execution_count": null,
   "outputs": []
  },
  {
   "cell_type": "markdown",
   "source": [
    "# Задача 7\n",
    "Написать функцию, принимающая целое число n, задающее количество кубиков. Функция\n",
    "должна определить, можно ли из данного кол-ва кубиков построить пирамиду, то есть\n",
    "можно ли представить число n как 1^2+2^2+3^2+…+k^2. Если можно, то функция должна\n",
    "вернуть k, иначе строку “It is impossible”. Написать тесты для кода"
   ],
   "metadata": {
    "id": "ps2s0BudX7A2"
   }
  },
  {
   "cell_type": "code",
   "source": [
    "import unittest\n",
    "\n",
    "\n",
    "def pyramid(n: int) -> str:\n",
    "    if n < 1:\n",
    "        return \"It is impossible\"\n",
    "\n",
    "    k = 0\n",
    "    sum = 0\n",
    "\n",
    "    while sum < n:\n",
    "        k += 1\n",
    "        sum += k ** 2\n",
    "\n",
    "    if sum == n:\n",
    "        return k\n",
    "    else:\n",
    "        return \"It is impossible\"\n",
    "\n",
    "\n",
    "class TestPyramid(unittest.TestCase):\n",
    "    def test1(self):\n",
    "        self.assertEqual(pyramid(15), \"It is impossible\")\n",
    "\n",
    "    def test2(self):\n",
    "        self.assertEqual(pyramid(0), \"It is impossible\")\n",
    "\n",
    "    def test3(self):\n",
    "        self.assertEqual(pyramid(255), 7)"
   ],
   "metadata": {
    "id": "3YPjEXxhX_YT"
   },
   "execution_count": null,
   "outputs": []
  },
  {
   "cell_type": "markdown",
   "source": [
    "# Задача 8\n",
    "Функция принимает на вход положительное число и определяет является ли оно сбалансированным, т.е. сумма цифр до средних равна сумме цифр после. Средними в случае нечетного числа цифр считать одну цифру, в случае четного - две средних. Написать тесты для кода"
   ],
   "metadata": {
    "id": "KeKgmIdAQMEJ"
   }
  },
  {
   "cell_type": "code",
   "source": [
    "def task8(n: int) -> bool:\n",
    "    str_n = str(n)\n",
    "    mid = len(str_n) // 2\n",
    "    left_part = str_n[:mid]\n",
    "    right_part = str_n[-mid:] if len(str_n) % 2 == 0 else str_n[-(mid + 1):]\n",
    "\n",
    "    return sum(int(digit) for digit in left_part) == sum(int(digit) for digit in right_part)\n",
    "\n",
    "\n",
    "class TestTask8(unittest.TestCase):\n",
    "    def test1(self):\n",
    "        self.assertTrue(task8(1234321))\n",
    "\n",
    "    def test2(self):\n",
    "        self.assertFalse(task8(34))\n",
    "\n",
    "    def test3(self):\n",
    "        self.assertTrue(task8(7))\n",
    "\n",
    "\n",
    "\n"
   ],
   "metadata": {
    "id": "gMAAqtqlQrZt"
   },
   "execution_count": null,
   "outputs": []
  }
 ]
}
